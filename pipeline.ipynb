{
 "cells": [
  {
   "cell_type": "code",
   "execution_count": null,
   "id": "f586cc56",
   "metadata": {},
   "outputs": [],
   "source": [
    "import numpy as np\n",
    "import pandas as pd\n",
    "import matplotlib.pyplot as plt\n",
    "import seaborn as sns\n",
    "from tqdm import tqdm\n",
    "from scipy.ndimage import gaussian_filter\n",
    "\n",
    "plt.rcParams.update({'font.size': 14})"
   ]
  },
  {
   "cell_type": "code",
   "execution_count": null,
   "id": "eeff1b99",
   "metadata": {},
   "outputs": [],
   "source": [
    "import os"
   ]
  },
  {
   "cell_type": "code",
   "execution_count": null,
   "id": "2299d499",
   "metadata": {},
   "outputs": [],
   "source": [
    "DATA_FOLDER = \"data\"\n",
    "WAV_FOLDER = os.path.join(DATA_FOLDER, \"music\", \"wav\")\n",
    "\n",
    "WAV_FILES = list(map(lambda x: os.path.join(WAV_FOLDER, x), os.listdir(WAV_FOLDER)))[0:1]"
   ]
  },
  {
   "cell_type": "code",
   "execution_count": null,
   "id": "79a13d15",
   "metadata": {},
   "outputs": [],
   "source": [
    "MSIZE = 256\n",
    "\n",
    "SIGMA = [7.0, 7.0]"
   ]
  },
  {
   "cell_type": "code",
   "execution_count": null,
   "id": "0fcda2d1",
   "metadata": {},
   "outputs": [],
   "source": [
    "for wav in tqdm(WAV_FILES):\n",
    "    matrix = np.zeros((MSIZE, MSIZE), dtype=\"uint32\")\n",
    "    with open(wav, \"rb\") as f:\n",
    "        raw_data = f.read()\n",
    "    \n",
    "    n = len(raw_data)\n",
    "    \n",
    "    for i in range(n-1):\n",
    "        idx1 = raw_data[i]\n",
    "        idx2 = raw_data[i+1]\n",
    "        \n",
    "        matrix[idx1, idx2] += 1"
   ]
  },
  {
   "cell_type": "code",
   "execution_count": null,
   "id": "fb2e56e9",
   "metadata": {},
   "outputs": [],
   "source": [
    "res_matrix = gaussian_filter(\n",
    "    matrix,\n",
    "    SIGMA,\n",
    "    mode=\"constant\",\n",
    "    cval=matrix.mean()\n",
    ")\n",
    "\n",
    "matrix.tofile(\"test.bin\")\n",
    "hex(matrix[0,0])"
   ]
  },
  {
   "cell_type": "code",
   "execution_count": null,
   "id": "df140210",
   "metadata": {},
   "outputs": [],
   "source": [
    "fig, ax = plt.subplots(1, 1, figsize=(8,6), dpi=120)\n",
    "ax.grid()\n",
    "# ax.set_xlim(1, 70)\n",
    "# ax.set(xlabel='common xlabel', ylabel='common ylabel')\n",
    "\n",
    "sns.heatmap(data=res_matrix)"
   ]
  }
 ],
 "metadata": {
  "kernelspec": {
   "display_name": "Python 3 (ipykernel)",
   "language": "python",
   "name": "python3"
  },
  "language_info": {
   "codemirror_mode": {
    "name": "ipython",
    "version": 3
   },
   "file_extension": ".py",
   "mimetype": "text/x-python",
   "name": "python",
   "nbconvert_exporter": "python",
   "pygments_lexer": "ipython3",
   "version": "3.13.3"
  },
  "toc": {
   "base_numbering": 1,
   "nav_menu": {},
   "number_sections": true,
   "sideBar": true,
   "skip_h1_title": false,
   "title_cell": "Table of Contents",
   "title_sidebar": "Contents",
   "toc_cell": false,
   "toc_position": {},
   "toc_section_display": true,
   "toc_window_display": false
  }
 },
 "nbformat": 4,
 "nbformat_minor": 5
}
