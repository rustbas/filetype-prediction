{
 "cells": [
  {
   "cell_type": "code",
   "execution_count": 1,
   "id": "f586cc56",
   "metadata": {},
   "outputs": [],
   "source": [
    "import numpy as np\n",
    "import pandas as pd\n",
    "import matplotlib.pyplot as plt\n",
    "import seaborn as sns\n",
    "from tqdm import tqdm\n",
    "from scipy.ndimage import gaussian_filter\n",
    "\n",
    "plt.rcParams.update({'font.size': 14})"
   ]
  },
  {
   "cell_type": "code",
   "execution_count": 44,
   "id": "eeff1b99",
   "metadata": {},
   "outputs": [],
   "source": [
    "import os"
   ]
  },
  {
   "cell_type": "code",
   "execution_count": 50,
   "id": "40f3505a",
   "metadata": {},
   "outputs": [],
   "source": [
    "MSIZE = 256\n",
    "SIGMA = (5.0, 5.0)"
   ]
  },
  {
   "cell_type": "code",
   "execution_count": 46,
   "id": "d9a3e74e",
   "metadata": {},
   "outputs": [
    {
     "data": {
      "text/plain": [
       "'matrices/music/file_100.wav.bin'"
      ]
     },
     "execution_count": 46,
     "metadata": {},
     "output_type": "execute_result"
    }
   ],
   "source": [
    "MATRIX_DIR = \"matrices\"\n",
    "MUSIC_DIR = \"music\"\n",
    "MATRIX_FULL_DIR = os.path.join(MATRIX_DIR, MUSIC_MDIR)\n",
    "MATRICIES = list(map(\n",
    "    lambda x: os.path.join(MATRIX_FULL_DIR, x),\n",
    "    os.listdir(MATRIX_FULL_DIR)\n",
    "))\n",
    "MATRICIES[0]"
   ]
  },
  {
   "cell_type": "code",
   "execution_count": 55,
   "id": "3bdab248",
   "metadata": {},
   "outputs": [
    {
     "name": "stdout",
     "output_type": "stream",
     "text": [
      "1.92 s ± 63.1 ms per loop (mean ± std. dev. of 5 runs, 5 loops each)\n"
     ]
    }
   ],
   "source": [
    "%%timeit -r 5 -n 5 \n",
    "for mat in MATRICIES:\n",
    "    tmp_mat = np.fromfile(mat, dtype=np.uint32).reshape((MSIZE, MSIZE))\n",
    "    res_matrix = gaussian_filter(\n",
    "        tmp_mat,\n",
    "        SIGMA,\n",
    "        mode=\"constant\",\n",
    "        cval=tmp_mat.mean()\n",
    "    )"
   ]
  },
  {
   "cell_type": "raw",
   "id": "7727981e",
   "metadata": {},
   "source": [
    "res_matrix = gaussian_filter(\n",
    "    matrix,\n",
    "    SIGMA,\n",
    "    mode=\"constant\",\n",
    "    cval=matrix.mean()\n",
    ")\n",
    "\n",
    "matrix.tofile(\"test.bin\")\n",
    "hex(matrix[0,0])"
   ]
  },
  {
   "cell_type": "raw",
   "id": "fd141084",
   "metadata": {},
   "source": [
    "fig, ax = plt.subplots(1, 1, figsize=(8,6), dpi=120)\n",
    "ax.grid()\n",
    "# ax.set_xlim(1, 70)\n",
    "# ax.set(xlabel='common xlabel', ylabel='common ylabel')\n",
    "\n",
    "sns.heatmap(data=res_matrix)"
   ]
  },
  {
   "cell_type": "code",
   "execution_count": 27,
   "id": "dbf18385",
   "metadata": {},
   "outputs": [
    {
     "data": {
      "text/plain": [
       "np.True_"
      ]
     },
     "execution_count": 27,
     "metadata": {},
     "output_type": "execute_result"
    }
   ],
   "source": [
    "test = np.fromfile(\"res1.bin\", dtype=np.uint32).reshape((MSIZE, MSIZE))\n",
    "\n",
    "np.all(np.equal(matrix, test))"
   ]
  }
 ],
 "metadata": {
  "kernelspec": {
   "display_name": "Python 3 (ipykernel)",
   "language": "python",
   "name": "python3"
  },
  "language_info": {
   "codemirror_mode": {
    "name": "ipython",
    "version": 3
   },
   "file_extension": ".py",
   "mimetype": "text/x-python",
   "name": "python",
   "nbconvert_exporter": "python",
   "pygments_lexer": "ipython3",
   "version": "3.13.3"
  },
  "toc": {
   "base_numbering": 1,
   "nav_menu": {},
   "number_sections": true,
   "sideBar": true,
   "skip_h1_title": false,
   "title_cell": "Table of Contents",
   "title_sidebar": "Contents",
   "toc_cell": false,
   "toc_position": {},
   "toc_section_display": true,
   "toc_window_display": false
  }
 },
 "nbformat": 4,
 "nbformat_minor": 5
}
